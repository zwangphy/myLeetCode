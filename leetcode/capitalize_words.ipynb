{
 "cells": [
  {
   "cell_type": "markdown",
   "id": "1a159c38",
   "metadata": {},
   "source": [
    "# Capitalize words\n",
    "\n",
    "### problem description:\n",
    "\n",
    "A string consists of multiples words, and each word is separated by white space. Complete the following function to capitalize the first letter of every word.\n",
    "\n",
    "> Example, input 'quantum mechanics', output 'Quantum Mechanics'."
   ]
  },
  {
   "cell_type": "code",
   "execution_count": null,
   "id": "1c1b5c5a",
   "metadata": {},
   "outputs": [],
   "source": [
    "def capi(s):\n",
    "    \n",
    "    return "
   ]
  },
  {
   "cell_type": "markdown",
   "id": "00dd1e02",
   "metadata": {},
   "source": [
    "### ideas:\n",
    "\n",
    "There are two built-in functions related to this problem, capitalize() and upper(). The former capitalizes the first letter of a string, and the latter capitalizes a particular character of a string.\n",
    "\n",
    "### a wrong solution:\n",
    "\n",
    "In this wrong solution, we will use upper().\n",
    "\n",
    "The strategy of the this solution is using upper() to capitalize every letter to the right of white space. Then, using replace() to update the string. But as we can see in the output 'QuantuM Mechanics', the letter m at the end of Quantum is wrongly capitalized because m is the first letter of mechanics."
   ]
  },
  {
   "cell_type": "code",
   "execution_count": 1,
   "id": "7128aeb0",
   "metadata": {},
   "outputs": [],
   "source": [
    "def capi(s):\n",
    "    for i in range(len(s)):\n",
    "        if i == 0:\n",
    "            s = s.replace(s[i], s[i].upper())\n",
    "        elif s[i-1] == ' ':\n",
    "            s = s.replace(s[i], s[i].upper())\n",
    "    return s"
   ]
  },
  {
   "cell_type": "code",
   "execution_count": 2,
   "id": "40d15396",
   "metadata": {},
   "outputs": [
    {
     "name": "stdout",
     "output_type": "stream",
     "text": [
      "QuantuM Mechanics\n"
     ]
    }
   ],
   "source": [
    "print(capi('quantum mechanics'))"
   ]
  },
  {
   "cell_type": "markdown",
   "id": "7506aa8b",
   "metadata": {},
   "source": [
    "\n",
    "### a successful solution\n",
    "\n",
    "Now, we use capitalize(). To employ capitalize(), we split the input string into multiple substring so that every substring only contains one word. We can call the function split() for this purpose."
   ]
  },
  {
   "cell_type": "code",
   "execution_count": 3,
   "id": "3078f931",
   "metadata": {},
   "outputs": [],
   "source": [
    "def capi(s):\n",
    "    wordList = s.split(' ')\n",
    "    wordCap = [x.capitalize() for x in wordList]\n",
    "    return ' '.join(wordCap)"
   ]
  },
  {
   "cell_type": "code",
   "execution_count": 4,
   "id": "c831d3cf",
   "metadata": {},
   "outputs": [
    {
     "name": "stdout",
     "output_type": "stream",
     "text": [
      "Quantum Mechanics\n"
     ]
    }
   ],
   "source": [
    "print(capi('quantum mechanics'))"
   ]
  },
  {
   "cell_type": "code",
   "execution_count": null,
   "id": "7613a704",
   "metadata": {},
   "outputs": [],
   "source": []
  }
 ],
 "metadata": {
  "kernelspec": {
   "display_name": "Python 3",
   "language": "python",
   "name": "python3"
  },
  "language_info": {
   "codemirror_mode": {
    "name": "ipython",
    "version": 3
   },
   "file_extension": ".py",
   "mimetype": "text/x-python",
   "name": "python",
   "nbconvert_exporter": "python",
   "pygments_lexer": "ipython3",
   "version": "3.8.8"
  }
 },
 "nbformat": 4,
 "nbformat_minor": 5
}
